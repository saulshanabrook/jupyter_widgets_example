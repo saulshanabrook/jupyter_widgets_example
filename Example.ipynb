{
 "cells": [
  {
   "cell_type": "markdown",
   "metadata": {},
   "source": [
    "# Introduction"
   ]
  },
  {
   "cell_type": "code",
   "execution_count": 1,
   "metadata": {},
   "outputs": [],
   "source": [
    "from ipywidgets import DOMWidget\n",
    "from traitlets import Unicode\n",
    "\n",
    "\n",
    "module_name = \"npm_package_name\"\n",
    "module_version = \"^0.0.0\"\n",
    "\n",
    "class ExampleWidget(DOMWidget):\n",
    "    \"\"\"TODO: Add docstring here\n",
    "    \"\"\"\n",
    "    _model_name = Unicode('ExampleModel').tag(sync=True)\n",
    "    _model_module = Unicode(module_name).tag(sync=True)\n",
    "    _model_module_version = Unicode(module_version).tag(sync=True)\n",
    "    _view_name = Unicode('ExampleView').tag(sync=True)\n",
    "    _view_module = Unicode(module_name).tag(sync=True)\n",
    "    _view_module_version = Unicode(module_version).tag(sync=True)\n",
    "\n",
    "    value = Unicode('Hello World').tag(sync=True)\n"
   ]
  },
  {
   "cell_type": "code",
   "execution_count": 2,
   "metadata": {},
   "outputs": [
    {
     "data": {
      "application/vnd.jupyter.widget-view+json": {
       "model_id": "a2e0311154ee44ac86a86095e3c99207",
       "version_major": 2,
       "version_minor": 0
      },
      "text/plain": [
       "ExampleWidget()"
      ]
     },
     "metadata": {},
     "output_type": "display_data"
    }
   ],
   "source": [
    "w = ExampleWidget()\n",
    "w"
   ]
  },
  {
   "cell_type": "code",
   "execution_count": 3,
   "metadata": {},
   "outputs": [],
   "source": [
    "assert w.value == 'Hello World'"
   ]
  },
  {
   "cell_type": "code",
   "execution_count": 4,
   "metadata": {},
   "outputs": [],
   "source": [
    "w.value = 'Hello World 2'"
   ]
  },
  {
   "cell_type": "code",
   "execution_count": null,
   "metadata": {},
   "outputs": [],
   "source": []
  }
 ],
 "metadata": {
  "kernelspec": {
   "display_name": "Python 3.10.5 ('github_project_name')",
   "language": "python",
   "name": "python3"
  },
  "language_info": {
   "codemirror_mode": {
    "name": "ipython",
    "version": 3
   },
   "file_extension": ".py",
   "mimetype": "text/x-python",
   "name": "python",
   "nbconvert_exporter": "python",
   "pygments_lexer": "ipython3",
   "version": "3.10.5"
  },
  "vscode": {
   "interpreter": {
    "hash": "f0f2cb94d99b8423e55e7c18dcb849bd02a7ebea4055f1cedd51902e204d6924"
   }
  }
 },
 "nbformat": 4,
 "nbformat_minor": 2
}
